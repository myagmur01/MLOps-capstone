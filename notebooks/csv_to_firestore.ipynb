{
 "cells": [
  {
   "cell_type": "code",
   "execution_count": null,
   "metadata": {},
   "outputs": [],
   "source": [
    "# !python3 -m pip install firebase-admin google-cloud-firestore"
   ]
  },
  {
   "cell_type": "code",
   "execution_count": null,
   "metadata": {},
   "outputs": [],
   "source": [
    "import firebase_admin\n",
    "from firebase_admin import credentials, firestore\n",
    "import pandas as pd\n",
    "import time"
   ]
  },
  {
   "cell_type": "code",
   "execution_count": null,
   "metadata": {},
   "outputs": [],
   "source": [
    "cred = credentials.Certificate(\"/Path to your Firebase SDK json/Example: firebase-adminsdk-boe4r-596dbdf4e8.json\")\n",
    "firebase_admin.initialize_app(cred)\n",
    "\n",
    "store = firestore.client()"
   ]
  },
  {
   "cell_type": "code",
   "execution_count": null,
   "metadata": {
    "scrolled": true
   },
   "outputs": [],
   "source": [
    "CATEGORY = 'Cellphones and Accessories'\n",
    "df_path = '../csv/filtered_cat_over_500items/downloaded/data-v4/5000/Cell_Phones_and_Accessories_downloaded.csv'\n",
    "\n",
    "# CATEGORY = 'Clothing For Men'\n",
    "# df_path = '../csv/filtered_cat_over_500items/downloaded/data-v4/5000/Clothing_Men_downloaded.csv'\n",
    "\n",
    "# CATEGORY = 'Clothing For Women'\n",
    "# df_path = '../csv/filtered_cat_over_500items/downloaded/data-v4/5000/Clothing_Women_downloaded.csv'\n",
    "\n",
    "# CATEGORY = 'Electronics'\n",
    "# df_path = '../csv/filtered_cat_over_500items/downloaded/data-v4/5000/Electronics_downloaded.csv'\n",
    "\n",
    "# CATEGORY = 'Home and Kitchen'\n",
    "# df_path = '../csv/filtered_cat_over_500items/downloaded/data-v4/5000/Home_and_Kitchen_downloaded.csv'\n",
    "\n",
    "# CATEGORY = 'Pet Supplies'\n",
    "# df_path = '../csv/filtered_cat_over_500items/downloaded/data-v4/5000/Pet_Supplies_downloaded.csv'\n",
    "\n",
    "# CATEGORY = 'Shoes'\n",
    "# df_path = '../csv/filtered_cat_over_500items/downloaded/data-v4/5000/Shoes_downloaded.csv'\n",
    "\n",
    "# CATEGORY = 'Watches'\n",
    "# df_path = '../csv/filtered_cat_over_500items/downloaded/data-v4/5000/Watches_downloaded.csv'"
   ]
  },
  {
   "cell_type": "code",
   "execution_count": null,
   "metadata": {},
   "outputs": [],
   "source": [
    "df = pd.read_csv(df_path)\n",
    "df.drop(columns=['related','salesRank', 'categories', 'description', 'timestamp', 'imUrl_local'], inplace=True)\n",
    "df.info()"
   ]
  },
  {
   "cell_type": "code",
   "execution_count": null,
   "metadata": {},
   "outputs": [],
   "source": [
    "df.sample()"
   ]
  },
  {
   "cell_type": "code",
   "execution_count": null,
   "metadata": {},
   "outputs": [],
   "source": [
    "# test first\n",
    "doc_ref = store.collection(u'products_amazon')\n",
    "\n",
    "doc_ref.add({u'product_id': df.iloc[644].asin, \n",
    "             u'title': df.iloc[644].title, \n",
    "             u'price': df.iloc[644].price,\n",
    "             u'imUrl': df.iloc[644].imUrl,\n",
    "             u'brand': [df.iloc[644].brand if pd.notna(df.iloc[644].brand) else ''],\n",
    "             u'rating': df.iloc[644].rating,\n",
    "             u'created_at': int(time.time())\n",
    "            })"
   ]
  },
  {
   "cell_type": "code",
   "execution_count": null,
   "metadata": {},
   "outputs": [],
   "source": [
    "def batch_data(iterable, n=1):\n",
    "    l = len(iterable)\n",
    "    for ndx in range(0, l, n):\n",
    "        yield iterable[ndx:min(ndx + n, l)]\n",
    "        \n",
    "def import_to_firestore(df, category, collection_name):\n",
    "    data = []\n",
    "    headers = list(df)\n",
    "    line_count = 0\n",
    "    \n",
    "    for index, row in df.iterrows():\n",
    "        obj = {}\n",
    "        \n",
    "#         if index == 1: break\n",
    "        for idx, item in enumerate(row):\n",
    "            obj[headers[idx]] = item\n",
    "            \n",
    "        obj['category'] = category\n",
    "        obj['created_at'] = int(time.time()) + index\n",
    "            \n",
    "        data.append(obj)\n",
    "        line_count += 1\n",
    "        print(f'Processed {line_count} lines.')\n",
    "        \n",
    "    for batched_data in batch_data(data, 499):\n",
    "        batch = store.batch()\n",
    "        for data_item in batched_data:\n",
    "            doc_ref = store.collection(collection_name).document()\n",
    "            batch.set(doc_ref, data_item)\n",
    "        batch.commit()"
   ]
  },
  {
   "cell_type": "code",
   "execution_count": null,
   "metadata": {},
   "outputs": [],
   "source": [
    "COLLECTION_NAME = 'products_amazon'"
   ]
  },
  {
   "cell_type": "code",
   "execution_count": null,
   "metadata": {},
   "outputs": [],
   "source": [
    "df.sample()"
   ]
  },
  {
   "cell_type": "code",
   "execution_count": null,
   "metadata": {
    "scrolled": true
   },
   "outputs": [],
   "source": [
    "import_to_firestore(df, CATEGORY, COLLECTION_NAME)"
   ]
  },
  {
   "cell_type": "code",
   "execution_count": null,
   "metadata": {},
   "outputs": [],
   "source": []
  }
 ],
 "metadata": {
  "kernelspec": {
   "display_name": "Python 3",
   "language": "python",
   "name": "python3"
  },
  "language_info": {
   "codemirror_mode": {
    "name": "ipython",
    "version": 3
   },
   "file_extension": ".py",
   "mimetype": "text/x-python",
   "name": "python",
   "nbconvert_exporter": "python",
   "pygments_lexer": "ipython3",
   "version": "3.7.3"
  }
 },
 "nbformat": 4,
 "nbformat_minor": 4
}
